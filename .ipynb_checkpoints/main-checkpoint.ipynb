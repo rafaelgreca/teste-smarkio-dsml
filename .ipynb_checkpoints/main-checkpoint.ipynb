{
 "cells": [
  {
   "cell_type": "code",
   "execution_count": 1,
   "metadata": {},
   "outputs": [
    {
     "name": "stdout",
     "output_type": "stream",
     "text": [
      "Requirement already satisfied: pandas in /home/greca/anaconda3/lib/python3.8/site-packages (1.2.1)\n",
      "Requirement already satisfied: python-dateutil>=2.7.3 in /home/greca/anaconda3/lib/python3.8/site-packages (from pandas) (2.8.1)\n",
      "Requirement already satisfied: pytz>=2017.3 in /home/greca/anaconda3/lib/python3.8/site-packages (from pandas) (2020.5)\n",
      "Requirement already satisfied: numpy>=1.16.5 in /home/greca/anaconda3/lib/python3.8/site-packages (from pandas) (1.19.5)\n",
      "Requirement already satisfied: six>=1.5 in /home/greca/anaconda3/lib/python3.8/site-packages (from python-dateutil>=2.7.3->pandas) (1.15.0)\n",
      "Requirement already satisfied: seaborn in /home/greca/.local/lib/python3.8/site-packages (0.11.1)\n",
      "Requirement already satisfied: numpy>=1.15 in /home/greca/anaconda3/lib/python3.8/site-packages (from seaborn) (1.19.5)\n",
      "Requirement already satisfied: pandas>=0.23 in /home/greca/anaconda3/lib/python3.8/site-packages (from seaborn) (1.2.1)\n",
      "Requirement already satisfied: matplotlib>=2.2 in /home/greca/anaconda3/lib/python3.8/site-packages (from seaborn) (3.3.4)\n",
      "Requirement already satisfied: scipy>=1.0 in /home/greca/.local/lib/python3.8/site-packages (from seaborn) (1.6.0)\n",
      "Requirement already satisfied: cycler>=0.10 in /home/greca/.local/lib/python3.8/site-packages (from matplotlib>=2.2->seaborn) (0.10.0)\n",
      "Requirement already satisfied: pyparsing!=2.0.4,!=2.1.2,!=2.1.6,>=2.0.3 in /home/greca/.local/lib/python3.8/site-packages (from matplotlib>=2.2->seaborn) (2.4.7)\n",
      "Requirement already satisfied: kiwisolver>=1.0.1 in /home/greca/.local/lib/python3.8/site-packages (from matplotlib>=2.2->seaborn) (1.3.1)\n",
      "Requirement already satisfied: pillow>=6.2.0 in /home/greca/.local/lib/python3.8/site-packages (from matplotlib>=2.2->seaborn) (8.1.0)\n",
      "Requirement already satisfied: python-dateutil>=2.1 in /home/greca/anaconda3/lib/python3.8/site-packages (from matplotlib>=2.2->seaborn) (2.8.1)\n",
      "Requirement already satisfied: six in /home/greca/anaconda3/lib/python3.8/site-packages (from cycler>=0.10->matplotlib>=2.2->seaborn) (1.15.0)\n",
      "Requirement already satisfied: pytz>=2017.3 in /home/greca/anaconda3/lib/python3.8/site-packages (from pandas>=0.23->seaborn) (2020.5)\n",
      "Requirement already satisfied: numpy in /home/greca/anaconda3/lib/python3.8/site-packages (1.19.5)\n",
      "Requirement already satisfied: matplotlib in /home/greca/anaconda3/lib/python3.8/site-packages (3.3.4)\n",
      "Requirement already satisfied: python-dateutil>=2.1 in /home/greca/anaconda3/lib/python3.8/site-packages (from matplotlib) (2.8.1)\n",
      "Requirement already satisfied: pyparsing!=2.0.4,!=2.1.2,!=2.1.6,>=2.0.3 in /home/greca/.local/lib/python3.8/site-packages (from matplotlib) (2.4.7)\n",
      "Requirement already satisfied: numpy>=1.15 in /home/greca/anaconda3/lib/python3.8/site-packages (from matplotlib) (1.19.5)\n",
      "Requirement already satisfied: kiwisolver>=1.0.1 in /home/greca/.local/lib/python3.8/site-packages (from matplotlib) (1.3.1)\n",
      "Requirement already satisfied: pillow>=6.2.0 in /home/greca/.local/lib/python3.8/site-packages (from matplotlib) (8.1.0)\n",
      "Requirement already satisfied: cycler>=0.10 in /home/greca/.local/lib/python3.8/site-packages (from matplotlib) (0.10.0)\n",
      "Requirement already satisfied: six in /home/greca/anaconda3/lib/python3.8/site-packages (from cycler>=0.10->matplotlib) (1.15.0)\n",
      "Requirement already satisfied: sklearn in /home/greca/anaconda3/lib/python3.8/site-packages (0.0)\n",
      "Requirement already satisfied: scikit-learn in /home/greca/.local/lib/python3.8/site-packages (from sklearn) (0.24.0)\n",
      "Requirement already satisfied: scipy>=0.19.1 in /home/greca/.local/lib/python3.8/site-packages (from scikit-learn->sklearn) (1.6.0)\n",
      "Requirement already satisfied: threadpoolctl>=2.0.0 in /home/greca/.local/lib/python3.8/site-packages (from scikit-learn->sklearn) (2.1.0)\n",
      "Requirement already satisfied: numpy>=1.13.3 in /home/greca/anaconda3/lib/python3.8/site-packages (from scikit-learn->sklearn) (1.19.5)\n",
      "Requirement already satisfied: joblib>=0.11 in /home/greca/.local/lib/python3.8/site-packages (from scikit-learn->sklearn) (1.0.0)\n"
     ]
    }
   ],
   "source": [
    "#instala as bibliotecas necessárias para a execução\n",
    "!pip install pandas\n",
    "!pip install seaborn\n",
    "!pip install numpy\n",
    "!pip install matplotlib\n",
    "!pip install sklearn"
   ]
  },
  {
   "cell_type": "code",
   "execution_count": 2,
   "metadata": {},
   "outputs": [],
   "source": [
    "#importando as bibliotecas que serão utilizadas\n",
    "import pandas as pd\n",
    "import matplotlib.pyplot as plt\n",
    "import seaborn as sns\n",
    "import numpy as np\n",
    "from sklearn.model_selection import train_test_split\n",
    "from sklearn.metrics import accuracy_score, confusion_matrix, f1_score, recall_score, precision_score\n",
    "from sklearn.feature_extraction.text import CountVectorizer\n",
    "from sklearn.naive_bayes import MultinomialNB\n",
    "import warnings\n",
    "\n",
    "#serão ignoradas todas mensagens de warning (aviso) que aparecer no notebook\n",
    "warnings.filterwarnings('ignore')"
   ]
  },
  {
   "cell_type": "markdown",
   "metadata": {},
   "source": [
    "## Abrindo o arquivo com os dados"
   ]
  },
  {
   "cell_type": "code",
   "execution_count": 3,
   "metadata": {},
   "outputs": [],
   "source": [
    "arquivo_xls = pd.ExcelFile('data/teste_smarkio_Lbs.xls')\n",
    "dados_analise_ml = pd.read_excel(arquivo_xls, 'Análise_ML')\n",
    "dados_nlp = pd.read_excel(arquivo_xls, 'NLP')"
   ]
  },
  {
   "cell_type": "code",
   "execution_count": 4,
   "metadata": {},
   "outputs": [
    {
     "data": {
      "text/html": [
       "<div>\n",
       "<style scoped>\n",
       "    .dataframe tbody tr th:only-of-type {\n",
       "        vertical-align: middle;\n",
       "    }\n",
       "\n",
       "    .dataframe tbody tr th {\n",
       "        vertical-align: top;\n",
       "    }\n",
       "\n",
       "    .dataframe thead th {\n",
       "        text-align: right;\n",
       "    }\n",
       "</style>\n",
       "<table border=\"1\" class=\"dataframe\">\n",
       "  <thead>\n",
       "    <tr style=\"text-align: right;\">\n",
       "      <th></th>\n",
       "      <th>Pred_class</th>\n",
       "      <th>probabilidade</th>\n",
       "      <th>status</th>\n",
       "      <th>True_class</th>\n",
       "    </tr>\n",
       "  </thead>\n",
       "  <tbody>\n",
       "    <tr>\n",
       "      <th>0</th>\n",
       "      <td>2</td>\n",
       "      <td>0.079892</td>\n",
       "      <td>approved</td>\n",
       "      <td>0.0</td>\n",
       "    </tr>\n",
       "    <tr>\n",
       "      <th>1</th>\n",
       "      <td>2</td>\n",
       "      <td>0.379377</td>\n",
       "      <td>approved</td>\n",
       "      <td>74.0</td>\n",
       "    </tr>\n",
       "    <tr>\n",
       "      <th>2</th>\n",
       "      <td>2</td>\n",
       "      <td>0.379377</td>\n",
       "      <td>approved</td>\n",
       "      <td>74.0</td>\n",
       "    </tr>\n",
       "    <tr>\n",
       "      <th>3</th>\n",
       "      <td>2</td>\n",
       "      <td>0.420930</td>\n",
       "      <td>approved</td>\n",
       "      <td>74.0</td>\n",
       "    </tr>\n",
       "    <tr>\n",
       "      <th>4</th>\n",
       "      <td>2</td>\n",
       "      <td>0.607437</td>\n",
       "      <td>approved</td>\n",
       "      <td>NaN</td>\n",
       "    </tr>\n",
       "  </tbody>\n",
       "</table>\n",
       "</div>"
      ],
      "text/plain": [
       "   Pred_class  probabilidade    status  True_class\n",
       "0           2       0.079892  approved         0.0\n",
       "1           2       0.379377  approved        74.0\n",
       "2           2       0.379377  approved        74.0\n",
       "3           2       0.420930  approved        74.0\n",
       "4           2       0.607437  approved         NaN"
      ]
     },
     "execution_count": 4,
     "metadata": {},
     "output_type": "execute_result"
    }
   ],
   "source": [
    "#esses dados serão utilizados para resolver as atividades de 1 a 4.\n",
    "dados_analise_ml.head(5)"
   ]
  },
  {
   "cell_type": "code",
   "execution_count": 5,
   "metadata": {},
   "outputs": [
    {
     "data": {
      "text/html": [
       "<div>\n",
       "<style scoped>\n",
       "    .dataframe tbody tr th:only-of-type {\n",
       "        vertical-align: middle;\n",
       "    }\n",
       "\n",
       "    .dataframe tbody tr th {\n",
       "        vertical-align: top;\n",
       "    }\n",
       "\n",
       "    .dataframe thead th {\n",
       "        text-align: right;\n",
       "    }\n",
       "</style>\n",
       "<table border=\"1\" class=\"dataframe\">\n",
       "  <thead>\n",
       "    <tr style=\"text-align: right;\">\n",
       "      <th></th>\n",
       "      <th>letra</th>\n",
       "      <th>artista</th>\n",
       "    </tr>\n",
       "  </thead>\n",
       "  <tbody>\n",
       "    <tr>\n",
       "      <th>0</th>\n",
       "      <td>Jay-z Uh-uh-uh You ready b? Let's go get 'em. ...</td>\n",
       "      <td>Beyoncé</td>\n",
       "    </tr>\n",
       "    <tr>\n",
       "      <th>1</th>\n",
       "      <td>Your challengers are a young group from Housto...</td>\n",
       "      <td>Beyoncé</td>\n",
       "    </tr>\n",
       "    <tr>\n",
       "      <th>2</th>\n",
       "      <td>Dum-da-de-da Do, do, do, do, do, do (Coming do...</td>\n",
       "      <td>Beyoncé</td>\n",
       "    </tr>\n",
       "    <tr>\n",
       "      <th>3</th>\n",
       "      <td>If I ain't got nothing I got you If I ain't go...</td>\n",
       "      <td>Beyoncé</td>\n",
       "    </tr>\n",
       "    <tr>\n",
       "      <th>4</th>\n",
       "      <td>Six inch heels She walked in the club like nob...</td>\n",
       "      <td>Beyoncé</td>\n",
       "    </tr>\n",
       "  </tbody>\n",
       "</table>\n",
       "</div>"
      ],
      "text/plain": [
       "                                               letra  artista\n",
       "0  Jay-z Uh-uh-uh You ready b? Let's go get 'em. ...  Beyoncé\n",
       "1  Your challengers are a young group from Housto...  Beyoncé\n",
       "2  Dum-da-de-da Do, do, do, do, do, do (Coming do...  Beyoncé\n",
       "3  If I ain't got nothing I got you If I ain't go...  Beyoncé\n",
       "4  Six inch heels She walked in the club like nob...  Beyoncé"
      ]
     },
     "execution_count": 5,
     "metadata": {},
     "output_type": "execute_result"
    }
   ],
   "source": [
    "#esses dados serão utilizados para resolver a atividade 5.\n",
    "dados_nlp.head(5)"
   ]
  },
  {
   "cell_type": "markdown",
   "metadata": {},
   "source": [
    "## Atividades"
   ]
  },
  {
   "cell_type": "markdown",
   "metadata": {},
   "source": [
    "### 1- Análise exploratória dos dados utilizando estatística descritiva e inferencial,considerando uma, duas e/ou mais variáveis."
   ]
  },
  {
   "cell_type": "code",
   "execution_count": 6,
   "metadata": {},
   "outputs": [],
   "source": [
    "#pred_class = classe que foi identificada pelo modelo\n",
    "#probabilidade = a probabilidade da classe que o modelo identificou\n",
    "#status = status da classificação de acordo com um especialista\n",
    "#true_class = classe verdadeira. Se for nula, assumir o valor do pred_class\n",
    "#se pred_class = true_class, então o modelo acertou a classe"
   ]
  },
  {
   "cell_type": "code",
   "execution_count": 7,
   "metadata": {},
   "outputs": [
    {
     "data": {
      "text/plain": [
       "(643, 4)"
      ]
     },
     "execution_count": 7,
     "metadata": {},
     "output_type": "execute_result"
    }
   ],
   "source": [
    "#nós temos um total de 643 dados (também podemos chamar de linhas) e 4 colunas\n",
    "dados_analise_ml.shape"
   ]
  },
  {
   "cell_type": "code",
   "execution_count": 8,
   "metadata": {},
   "outputs": [
    {
     "name": "stdout",
     "output_type": "stream",
     "text": [
      "<class 'pandas.core.frame.DataFrame'>\n",
      "RangeIndex: 643 entries, 0 to 642\n",
      "Data columns (total 4 columns):\n",
      " #   Column         Non-Null Count  Dtype  \n",
      "---  ------         --------------  -----  \n",
      " 0   Pred_class     643 non-null    int64  \n",
      " 1   probabilidade  643 non-null    float64\n",
      " 2   status         643 non-null    object \n",
      " 3   True_class     181 non-null    float64\n",
      "dtypes: float64(2), int64(1), object(1)\n",
      "memory usage: 20.2+ KB\n"
     ]
    }
   ],
   "source": [
    "#primeiramente iremos analisar os tipos das colunas que temos\n",
    "#'pred_class', 'probabilidade' e 'true_class' são colunas numéricas\n",
    "#'status' é do tipo object. Ou seja, se trata de uma coluna categórica\n",
    "dados_analise_ml.info()"
   ]
  },
  {
   "cell_type": "code",
   "execution_count": 9,
   "metadata": {},
   "outputs": [
    {
     "data": {
      "text/html": [
       "<div>\n",
       "<style scoped>\n",
       "    .dataframe tbody tr th:only-of-type {\n",
       "        vertical-align: middle;\n",
       "    }\n",
       "\n",
       "    .dataframe tbody tr th {\n",
       "        vertical-align: top;\n",
       "    }\n",
       "\n",
       "    .dataframe thead th {\n",
       "        text-align: right;\n",
       "    }\n",
       "</style>\n",
       "<table border=\"1\" class=\"dataframe\">\n",
       "  <thead>\n",
       "    <tr style=\"text-align: right;\">\n",
       "      <th></th>\n",
       "      <th>Pred_class</th>\n",
       "      <th>probabilidade</th>\n",
       "      <th>status</th>\n",
       "      <th>True_class</th>\n",
       "    </tr>\n",
       "  </thead>\n",
       "  <tbody>\n",
       "    <tr>\n",
       "      <th>count</th>\n",
       "      <td>643.000000</td>\n",
       "      <td>643.000000</td>\n",
       "      <td>643</td>\n",
       "      <td>181.000000</td>\n",
       "    </tr>\n",
       "    <tr>\n",
       "      <th>unique</th>\n",
       "      <td>NaN</td>\n",
       "      <td>NaN</td>\n",
       "      <td>2</td>\n",
       "      <td>NaN</td>\n",
       "    </tr>\n",
       "    <tr>\n",
       "      <th>top</th>\n",
       "      <td>NaN</td>\n",
       "      <td>NaN</td>\n",
       "      <td>approved</td>\n",
       "      <td>NaN</td>\n",
       "    </tr>\n",
       "    <tr>\n",
       "      <th>freq</th>\n",
       "      <td>NaN</td>\n",
       "      <td>NaN</td>\n",
       "      <td>600</td>\n",
       "      <td>NaN</td>\n",
       "    </tr>\n",
       "    <tr>\n",
       "      <th>mean</th>\n",
       "      <td>52.712286</td>\n",
       "      <td>0.622436</td>\n",
       "      <td>NaN</td>\n",
       "      <td>38.574586</td>\n",
       "    </tr>\n",
       "    <tr>\n",
       "      <th>std</th>\n",
       "      <td>37.602068</td>\n",
       "      <td>0.266811</td>\n",
       "      <td>NaN</td>\n",
       "      <td>39.581017</td>\n",
       "    </tr>\n",
       "    <tr>\n",
       "      <th>min</th>\n",
       "      <td>2.000000</td>\n",
       "      <td>0.043858</td>\n",
       "      <td>NaN</td>\n",
       "      <td>0.000000</td>\n",
       "    </tr>\n",
       "    <tr>\n",
       "      <th>25%</th>\n",
       "      <td>12.000000</td>\n",
       "      <td>0.408017</td>\n",
       "      <td>NaN</td>\n",
       "      <td>0.000000</td>\n",
       "    </tr>\n",
       "    <tr>\n",
       "      <th>50%</th>\n",
       "      <td>59.000000</td>\n",
       "      <td>0.616809</td>\n",
       "      <td>NaN</td>\n",
       "      <td>24.000000</td>\n",
       "    </tr>\n",
       "    <tr>\n",
       "      <th>75%</th>\n",
       "      <td>81.000000</td>\n",
       "      <td>0.870083</td>\n",
       "      <td>NaN</td>\n",
       "      <td>74.000000</td>\n",
       "    </tr>\n",
       "    <tr>\n",
       "      <th>max</th>\n",
       "      <td>118.000000</td>\n",
       "      <td>1.000000</td>\n",
       "      <td>NaN</td>\n",
       "      <td>117.000000</td>\n",
       "    </tr>\n",
       "  </tbody>\n",
       "</table>\n",
       "</div>"
      ],
      "text/plain": [
       "        Pred_class  probabilidade    status  True_class\n",
       "count   643.000000     643.000000       643  181.000000\n",
       "unique         NaN            NaN         2         NaN\n",
       "top            NaN            NaN  approved         NaN\n",
       "freq           NaN            NaN       600         NaN\n",
       "mean     52.712286       0.622436       NaN   38.574586\n",
       "std      37.602068       0.266811       NaN   39.581017\n",
       "min       2.000000       0.043858       NaN    0.000000\n",
       "25%      12.000000       0.408017       NaN    0.000000\n",
       "50%      59.000000       0.616809       NaN   24.000000\n",
       "75%      81.000000       0.870083       NaN   74.000000\n",
       "max     118.000000       1.000000       NaN  117.000000"
      ]
     },
     "execution_count": 9,
     "metadata": {},
     "output_type": "execute_result"
    }
   ],
   "source": [
    "dados_analise_ml.describe(include='all') #iremos incluir todas as colunas, até mesmo as categóricas (status)\n",
    "\n",
    "#a única coluna que possui valores nulos é a 'true_class', elas serão tratadas posteriormente\n",
    "#a coluna 'status' só possui dois valores possíveis"
   ]
  },
  {
   "cell_type": "markdown",
   "metadata": {},
   "source": [
    "#### Análise da coluna Status"
   ]
  },
  {
   "cell_type": "code",
   "execution_count": 10,
   "metadata": {},
   "outputs": [
    {
     "data": {
      "image/png": "[encoded data removed]",
      "text/plain": [
       "<Figure size 432x288 with 1 Axes>"
      ]
     },
     "metadata": {
      "needs_background": "light"
     },
     "output_type": "display_data"
    }
   ],
   "source": [
    "#analisando a coluna 'status'\n",
    "\n",
    "fig = plt.figure(figsize=(6, 4))\n",
    "plt.title('Análise da coluna Status')\n",
    "sns.countplot(dados_analise_ml['status'])\n",
    "fig.savefig('images/analise_status.png')\n",
    "\n",
    "#a coluna 'status' possui dois tipos de valores: approved e revision\n",
    "#approved é o valor que aparece com mais frequência (600), o que representa, aproximadamente, 93% do total\n",
    "#revision aparece somente 43 vezes\n",
    "#isso indica que temos mais dados aprovados do que os que precisam de uma revisão"
   ]
  },
  {
   "cell_type": "markdown",
   "metadata": {},
   "source": [
    "#### Análise da coluna True_class"
   ]
  },
  {
   "cell_type": "code",
   "execution_count": 11,
   "metadata": {},
   "outputs": [],
   "source": [
    "#analisando a coluna 'true_class'\n",
    "dados_analise_ml_semnull = dados_analise_ml.copy() #armazenando uma cópia do nosso dataframe em outra variável\n",
    "\n",
    "#iremos fazer uma iteração em cada linha do nosso dataframe\n",
    "for index, linha in dados_analise_ml_semnull.iterrows():\n",
    "    \n",
    "    #verificamos se o valor para 'True_class' é nan (nulo)\n",
    "    if np.isnan(linha['True_class']):\n",
    "        \n",
    "        #se for nulo, iremos armazenar o valor do 'Pred_class' no seu lugar\n",
    "        dados_analise_ml_semnull.loc[index, 'True_class'] = linha['Pred_class']"
   ]
  },
  {
   "cell_type": "code",
   "execution_count": 12,
   "metadata": {},
   "outputs": [
    {
     "data": {
      "text/plain": [
       "Pred_class       0\n",
       "probabilidade    0\n",
       "status           0\n",
       "True_class       0\n",
       "dtype: int64"
      ]
     },
     "execution_count": 12,
     "metadata": {},
     "output_type": "execute_result"
    }
   ],
   "source": [
    "#verificando se ainda existe algum valor nulo no dataframe e se a inserção funcionou\n",
    "dados_analise_ml_semnull.isnull().sum()"
   ]
  },
  {
   "cell_type": "code",
   "execution_count": 13,
   "metadata": {},
   "outputs": [
    {
     "data": {
      "text/html": [
       "<div>\n",
       "<style scoped>\n",
       "    .dataframe tbody tr th:only-of-type {\n",
       "        vertical-align: middle;\n",
       "    }\n",
       "\n",
       "    .dataframe tbody tr th {\n",
       "        vertical-align: top;\n",
       "    }\n",
       "\n",
       "    .dataframe thead th {\n",
       "        text-align: right;\n",
       "    }\n",
       "</style>\n",
       "<table border=\"1\" class=\"dataframe\">\n",
       "  <thead>\n",
       "    <tr style=\"text-align: right;\">\n",
       "      <th></th>\n",
       "      <th>Pred_class</th>\n",
       "      <th>probabilidade</th>\n",
       "      <th>status</th>\n",
       "      <th>True_class</th>\n",
       "      <th>True_class</th>\n",
       "    </tr>\n",
       "  </thead>\n",
       "  <tbody>\n",
       "    <tr>\n",
       "      <th>613</th>\n",
       "      <td>24</td>\n",
       "      <td>0.287126</td>\n",
       "      <td>revision</td>\n",
       "      <td>NaN</td>\n",
       "      <td>24.0</td>\n",
       "    </tr>\n",
       "    <tr>\n",
       "      <th>614</th>\n",
       "      <td>60</td>\n",
       "      <td>0.511118</td>\n",
       "      <td>revision</td>\n",
       "      <td>NaN</td>\n",
       "      <td>60.0</td>\n",
       "    </tr>\n",
       "    <tr>\n",
       "      <th>615</th>\n",
       "      <td>2</td>\n",
       "      <td>0.331168</td>\n",
       "      <td>revision</td>\n",
       "      <td>NaN</td>\n",
       "      <td>2.0</td>\n",
       "    </tr>\n",
       "    <tr>\n",
       "      <th>616</th>\n",
       "      <td>3</td>\n",
       "      <td>0.399808</td>\n",
       "      <td>revision</td>\n",
       "      <td>NaN</td>\n",
       "      <td>3.0</td>\n",
       "    </tr>\n",
       "    <tr>\n",
       "      <th>617</th>\n",
       "      <td>4</td>\n",
       "      <td>0.405327</td>\n",
       "      <td>revision</td>\n",
       "      <td>NaN</td>\n",
       "      <td>4.0</td>\n",
       "    </tr>\n",
       "    <tr>\n",
       "      <th>618</th>\n",
       "      <td>22</td>\n",
       "      <td>0.324137</td>\n",
       "      <td>revision</td>\n",
       "      <td>NaN</td>\n",
       "      <td>22.0</td>\n",
       "    </tr>\n",
       "    <tr>\n",
       "      <th>619</th>\n",
       "      <td>24</td>\n",
       "      <td>0.737133</td>\n",
       "      <td>revision</td>\n",
       "      <td>NaN</td>\n",
       "      <td>24.0</td>\n",
       "    </tr>\n",
       "    <tr>\n",
       "      <th>620</th>\n",
       "      <td>39</td>\n",
       "      <td>0.812112</td>\n",
       "      <td>revision</td>\n",
       "      <td>NaN</td>\n",
       "      <td>39.0</td>\n",
       "    </tr>\n",
       "    <tr>\n",
       "      <th>621</th>\n",
       "      <td>39</td>\n",
       "      <td>0.812112</td>\n",
       "      <td>revision</td>\n",
       "      <td>NaN</td>\n",
       "      <td>39.0</td>\n",
       "    </tr>\n",
       "    <tr>\n",
       "      <th>622</th>\n",
       "      <td>43</td>\n",
       "      <td>0.725794</td>\n",
       "      <td>revision</td>\n",
       "      <td>NaN</td>\n",
       "      <td>43.0</td>\n",
       "    </tr>\n",
       "    <tr>\n",
       "      <th>623</th>\n",
       "      <td>60</td>\n",
       "      <td>0.421998</td>\n",
       "      <td>revision</td>\n",
       "      <td>NaN</td>\n",
       "      <td>60.0</td>\n",
       "    </tr>\n",
       "    <tr>\n",
       "      <th>624</th>\n",
       "      <td>81</td>\n",
       "      <td>0.351401</td>\n",
       "      <td>revision</td>\n",
       "      <td>NaN</td>\n",
       "      <td>81.0</td>\n",
       "    </tr>\n",
       "    <tr>\n",
       "      <th>625</th>\n",
       "      <td>96</td>\n",
       "      <td>0.313003</td>\n",
       "      <td>revision</td>\n",
       "      <td>NaN</td>\n",
       "      <td>96.0</td>\n",
       "    </tr>\n",
       "    <tr>\n",
       "      <th>626</th>\n",
       "      <td>113</td>\n",
       "      <td>0.516733</td>\n",
       "      <td>revision</td>\n",
       "      <td>NaN</td>\n",
       "      <td>113.0</td>\n",
       "    </tr>\n",
       "    <tr>\n",
       "      <th>627</th>\n",
       "      <td>2</td>\n",
       "      <td>0.334350</td>\n",
       "      <td>revision</td>\n",
       "      <td>NaN</td>\n",
       "      <td>2.0</td>\n",
       "    </tr>\n",
       "    <tr>\n",
       "      <th>628</th>\n",
       "      <td>3</td>\n",
       "      <td>0.351031</td>\n",
       "      <td>revision</td>\n",
       "      <td>NaN</td>\n",
       "      <td>3.0</td>\n",
       "    </tr>\n",
       "    <tr>\n",
       "      <th>629</th>\n",
       "      <td>3</td>\n",
       "      <td>0.784920</td>\n",
       "      <td>revision</td>\n",
       "      <td>NaN</td>\n",
       "      <td>3.0</td>\n",
       "    </tr>\n",
       "    <tr>\n",
       "      <th>630</th>\n",
       "      <td>4</td>\n",
       "      <td>0.278516</td>\n",
       "      <td>revision</td>\n",
       "      <td>NaN</td>\n",
       "      <td>4.0</td>\n",
       "    </tr>\n",
       "    <tr>\n",
       "      <th>631</th>\n",
       "      <td>4</td>\n",
       "      <td>0.301915</td>\n",
       "      <td>revision</td>\n",
       "      <td>NaN</td>\n",
       "      <td>4.0</td>\n",
       "    </tr>\n",
       "    <tr>\n",
       "      <th>632</th>\n",
       "      <td>12</td>\n",
       "      <td>0.574756</td>\n",
       "      <td>revision</td>\n",
       "      <td>NaN</td>\n",
       "      <td>12.0</td>\n",
       "    </tr>\n",
       "    <tr>\n",
       "      <th>633</th>\n",
       "      <td>17</td>\n",
       "      <td>0.506654</td>\n",
       "      <td>revision</td>\n",
       "      <td>NaN</td>\n",
       "      <td>17.0</td>\n",
       "    </tr>\n",
       "    <tr>\n",
       "      <th>634</th>\n",
       "      <td>24</td>\n",
       "      <td>0.318306</td>\n",
       "      <td>revision</td>\n",
       "      <td>NaN</td>\n",
       "      <td>24.0</td>\n",
       "    </tr>\n",
       "    <tr>\n",
       "      <th>635</th>\n",
       "      <td>36</td>\n",
       "      <td>0.285545</td>\n",
       "      <td>revision</td>\n",
       "      <td>NaN</td>\n",
       "      <td>36.0</td>\n",
       "    </tr>\n",
       "    <tr>\n",
       "      <th>636</th>\n",
       "      <td>43</td>\n",
       "      <td>0.740075</td>\n",
       "      <td>revision</td>\n",
       "      <td>NaN</td>\n",
       "      <td>43.0</td>\n",
       "    </tr>\n",
       "    <tr>\n",
       "      <th>637</th>\n",
       "      <td>55</td>\n",
       "      <td>0.675269</td>\n",
       "      <td>revision</td>\n",
       "      <td>NaN</td>\n",
       "      <td>55.0</td>\n",
       "    </tr>\n",
       "    <tr>\n",
       "      <th>638</th>\n",
       "      <td>60</td>\n",
       "      <td>0.543772</td>\n",
       "      <td>revision</td>\n",
       "      <td>NaN</td>\n",
       "      <td>60.0</td>\n",
       "    </tr>\n",
       "    <tr>\n",
       "      <th>639</th>\n",
       "      <td>60</td>\n",
       "      <td>0.553846</td>\n",
       "      <td>revision</td>\n",
       "      <td>NaN</td>\n",
       "      <td>60.0</td>\n",
       "    </tr>\n",
       "    <tr>\n",
       "      <th>640</th>\n",
       "      <td>77</td>\n",
       "      <td>0.606065</td>\n",
       "      <td>revision</td>\n",
       "      <td>NaN</td>\n",
       "      <td>77.0</td>\n",
       "    </tr>\n",
       "    <tr>\n",
       "      <th>641</th>\n",
       "      <td>84</td>\n",
       "      <td>0.561842</td>\n",
       "      <td>revision</td>\n",
       "      <td>NaN</td>\n",
       "      <td>84.0</td>\n",
       "    </tr>\n",
       "    <tr>\n",
       "      <th>642</th>\n",
       "      <td>96</td>\n",
       "      <td>0.340740</td>\n",
       "      <td>revision</td>\n",
       "      <td>NaN</td>\n",
       "      <td>96.0</td>\n",
       "    </tr>\n",
       "  </tbody>\n",
       "</table>\n",
       "</div>"
      ],
      "text/plain": [
       "     Pred_class  probabilidade    status  True_class  True_class\n",
       "613          24       0.287126  revision         NaN        24.0\n",
       "614          60       0.511118  revision         NaN        60.0\n",
       "615           2       0.331168  revision         NaN         2.0\n",
       "616           3       0.399808  revision         NaN         3.0\n",
       "617           4       0.405327  revision         NaN         4.0\n",
       "618          22       0.324137  revision         NaN        22.0\n",
       "619          24       0.737133  revision         NaN        24.0\n",
       "620          39       0.812112  revision         NaN        39.0\n",
       "621          39       0.812112  revision         NaN        39.0\n",
       "622          43       0.725794  revision         NaN        43.0\n",
       "623          60       0.421998  revision         NaN        60.0\n",
       "624          81       0.351401  revision         NaN        81.0\n",
       "625          96       0.313003  revision         NaN        96.0\n",
       "626         113       0.516733  revision         NaN       113.0\n",
       "627           2       0.334350  revision         NaN         2.0\n",
       "628           3       0.351031  revision         NaN         3.0\n",
       "629           3       0.784920  revision         NaN         3.0\n",
       "630           4       0.278516  revision         NaN         4.0\n",
       "631           4       0.301915  revision         NaN         4.0\n",
       "632          12       0.574756  revision         NaN        12.0\n",
       "633          17       0.506654  revision         NaN        17.0\n",
       "634          24       0.318306  revision         NaN        24.0\n",
       "635          36       0.285545  revision         NaN        36.0\n",
       "636          43       0.740075  revision         NaN        43.0\n",
       "637          55       0.675269  revision         NaN        55.0\n",
       "638          60       0.543772  revision         NaN        60.0\n",
       "639          60       0.553846  revision         NaN        60.0\n",
       "640          77       0.606065  revision         NaN        77.0\n",
       "641          84       0.561842  revision         NaN        84.0\n",
       "642          96       0.340740  revision         NaN        96.0"
      ]
     },
     "execution_count": 13,
     "metadata": {},
     "output_type": "execute_result"
    }
   ],
   "source": [
    "#verificando se inserimos os valores certos\n",
    "\n",
    "#será criado um dataframe temporário para fazermos a comparação\n",
    "#teremos duas colunas 'True_class': a da esquerda é antes de ser tratada e a direita depois de ser tratada.\n",
    "#veremos que os valores foram inseridos corretamente\n",
    "temp_data = pd.concat([dados_analise_ml, dados_analise_ml_semnull['True_class']], axis=1)\n",
    "temp_data.tail(30)"
   ]
  },
  {
   "cell_type": "code",
   "execution_count": 14,
   "metadata": {},
   "outputs": [],
   "source": [
    "#deleta a variável temporária já que não usaremos ela para mais nada\n",
    "del temp_data"
   ]
  },
  {
   "cell_type": "code",
   "execution_count": 15,
   "metadata": {},
   "outputs": [
    {
     "data": {
      "image/png": "[encoded data removed]",
      "text/plain": [
       "<Figure size 1296x864 with 1 Axes>"
      ]
     },
     "metadata": {
      "needs_background": "light"
     },
     "output_type": "display_data"
    }
   ],
   "source": [
    "#usaremos só os dados onde o status é 'approved', pois foram confirmados e aprovados pelos cientistas\n",
    "dados_analise_ml_semnull_approved = dados_analise_ml_semnull[dados_analise_ml_semnull['status'] == 'approved'].copy()\n",
    "\n",
    "fig = plt.figure(figsize=(18, 12))\n",
    "plt.title('Análise da coluna True_class (Approved)')\n",
    "sns.countplot(y=dados_analise_ml_semnull_approved['True_class'], orient='h')\n",
    "fig.savefig('images/analise_true_class.png')"
   ]
  },
  {
   "cell_type": "code",
   "execution_count": 16,
   "metadata": {},
   "outputs": [
    {
     "data": {
      "image/png": "[encoded data removed]",
      "text/plain": [
       "<Figure size 504x288 with 1 Axes>"
      ]
     },
     "metadata": {
      "needs_background": "light"
     },
     "output_type": "display_data"
    }
   ],
   "source": [
    "#analisando o histograma da coluna 'True_class'\n",
    "fig = plt.figure(figsize=(7, 4))\n",
    "plt.title('Histograma da coluna True_class (Approved)')\n",
    "sns.histplot(dados_analise_ml_semnull_approved['True_class'], kde=True)\n",
    "fig.savefig('images/histograma_true_class.png')\n",
    "\n",
    "#através do gráfico anterior (countplot) e do histograma mostrado abaixo\n",
    "#podemos perceber que as classes não são uniformemente distribuída, pois temos\n",
    "#mais classes 0, 2, 3, 4, 60, 74 e 77 do que as demais. Principalmente a 74.\n",
    "\n",
    "#podemos perceber também que os dados tem uma forma parecida com a de \n",
    "# dados que são assimétrico para a esquerda (positivo)"
   ]
  },
  {
   "cell_type": "code",
   "execution_count": 17,
   "metadata": {},
   "outputs": [
    {
     "data": {
      "image/png": "[encoded data removed]",
      "text/plain": [
       "<Figure size 1296x864 with 1 Axes>"
      ]
     },
     "metadata": {
      "needs_background": "light"
     },
     "output_type": "display_data"
    }
   ],
   "source": [
    "#usaremos só os dados onde o status é 'revision'\n",
    "dados_analise_ml_semnull_revision = dados_analise_ml_semnull[dados_analise_ml_semnull['status'] == 'revision'].copy()\n",
    "\n",
    "fig = plt.figure(figsize=(18, 12))\n",
    "plt.title('Análise da coluna True_class (Revision)')\n",
    "sns.countplot(y=dados_analise_ml_semnull_revision['True_class'], orient='h')\n",
    "fig.savefig('images/analise_true_class_revision.png')\n",
    "\n",
    "#o compartamento dos dados com status 'revision' são parecidos com os dados\n",
    "#que possuem status 'approved'"
   ]
  },
  {
   "cell_type": "code",
   "execution_count": 18,
   "metadata": {},
   "outputs": [
    {
     "data": {
      "image/png": "[encoded data removed]",
      "text/plain": [
       "<Figure size 504x288 with 1 Axes>"
      ]
     },
     "metadata": {
      "needs_background": "light"
     },
     "output_type": "display_data"
    }
   ],
   "source": [
    "#analisando o histograma da coluna 'True_class' (revision)\n",
    "fig = plt.figure(figsize=(7, 4))\n",
    "plt.title('Histograma da coluna True_class (Revision)')\n",
    "sns.histplot(dados_analise_ml_semnull_revision['True_class'], kde=True)\n",
    "fig.savefig('images/histograma_true_class_revision.png')"
   ]
  },
  {
   "cell_type": "code",
   "execution_count": 19,
   "metadata": {},
   "outputs": [
    {
     "data": {
      "text/plain": [
       "69"
      ]
     },
     "execution_count": 19,
     "metadata": {},
     "output_type": "execute_result"
    }
   ],
   "source": [
    "#temos um total de 69 classes diferentes (Approved)\n",
    "dados_analise_ml_semnull_approved['True_class'].nunique()"
   ]
  },
  {
   "cell_type": "code",
   "execution_count": 20,
   "metadata": {},
   "outputs": [
    {
     "data": {
      "text/plain": [
       "73"
      ]
     },
     "execution_count": 20,
     "metadata": {},
     "output_type": "execute_result"
    }
   ],
   "source": [
    "#temos um total de 73 classes diferentes (Total)\n",
    "dados_analise_ml_semnull['True_class'].nunique()"
   ]
  },
  {
   "cell_type": "code",
   "execution_count": 56,
   "metadata": {},
   "outputs": [
    {
     "data": {
      "text/plain": [
       "<AxesSubplot:title={'center':'Análise boxplot True_class (Approved)'}, xlabel='True_class'>"
      ]
     },
     "execution_count": 56,
     "metadata": {},
     "output_type": "execute_result"
    },
    {
     "data": {
      "image/png": "[encoded data removed]",
      "text/plain": [
       "<Figure size 432x288 with 1 Axes>"
      ]
     },
     "metadata": {
      "needs_background": "light"
     },
     "output_type": "display_data"
    }
   ],
   "source": [
    "#analisando o boxplot da coluna, verificando se existe outlier\n",
    "fig = plt.figure(figsize=(6, 4))\n",
    "plt.title('Análise boxplot True_class (Approved)')\n",
    "sns.boxplot(dados_analise_ml_semnull_approved['True_class'])\n",
    "#fig.savefig('images/analise_classes_maior_acerto.png')"
   ]
  },
  {
   "cell_type": "markdown",
   "metadata": {},
   "source": [
    "#### Análise da coluna Pred_class"
   ]
  },
  {
   "cell_type": "code",
   "execution_count": 21,
   "metadata": {},
   "outputs": [
    {
     "data": {
      "image/png": "[encoded data removed]",
      "text/plain": [
       "<Figure size 1296x864 with 1 Axes>"
      ]
     },
     "metadata": {
      "needs_background": "light"
     },
     "output_type": "display_data"
    }
   ],
   "source": [
    "#analisando a coluna 'pred_class'\n",
    "dados_analise_ml_semnull_approved = dados_analise_ml_semnull[dados_analise_ml_semnull['status'] == 'approved'].copy()\n",
    "\n",
    "fig = plt.figure(figsize=(18, 12))\n",
    "plt.title('Análise da coluna Pred_class (Approved)')\n",
    "sns.countplot(y=dados_analise_ml_semnull_approved['Pred_class'], orient='h')\n",
    "fig.savefig('images/analise_pred_class.png')\n",
    "\n",
    "#as classes que mais apareceram na coluna 'Pred_class', que são os valores previstos pelo modelo\n",
    "#também são as que mais apareceram na coluna 'True_class', que são: 2, 3, 4, 60, 74 e 77.\n",
    "#o único que não aparece é a classe 0.\n",
    "#isso pode indicar que o valor 0, que está presente na coluna 'True_class', não representa uma classe\n",
    "#e pode ter sido um erro de digitação ou que o modelo tem dificuldades para reconhece-la"
   ]
  },
  {
   "cell_type": "code",
   "execution_count": 22,
   "metadata": {},
   "outputs": [
    {
     "data": {
      "image/png": "[encoded data removed]",
      "text/plain": [
       "<Figure size 504x288 with 1 Axes>"
      ]
     },
     "metadata": {
      "needs_background": "light"
     },
     "output_type": "display_data"
    }
   ],
   "source": [
    "#analisando o histograma da coluna 'Pred_class'\n",
    "fig = plt.figure(figsize=(7, 4))\n",
    "plt.title('Histograma da coluna Pred_class (Approved)')\n",
    "sns.histplot(dados_analise_ml_semnull_approved['Pred_class'], kde=True)\n",
    "fig.savefig('images/histograma_pred_class.png')"
   ]
  },
  {
   "cell_type": "code",
   "execution_count": 23,
   "metadata": {},
   "outputs": [],
   "source": [
    "#criando uma nova coluna no nosso dataframe para verificarmos se o algoritmo acertou a classe\n",
    "#se o classe real = prevista, colocamos o valor 1. Se não, o valor 0.\n",
    "dados_analise_ml_semnull_approved['Acertou'] = np.where(dados_analise_ml_semnull_approved['Pred_class'] == dados_analise_ml_semnull_approved['True_class'],\n",
    "                                                        1, 0)"
   ]
  },
  {
   "cell_type": "code",
   "execution_count": 24,
   "metadata": {},
   "outputs": [
    {
     "data": {
      "text/html": [
       "<div>\n",
       "<style scoped>\n",
       "    .dataframe tbody tr th:only-of-type {\n",
       "        vertical-align: middle;\n",
       "    }\n",
       "\n",
       "    .dataframe tbody tr th {\n",
       "        vertical-align: top;\n",
       "    }\n",
       "\n",
       "    .dataframe thead th {\n",
       "        text-align: right;\n",
       "    }\n",
       "</style>\n",
       "<table border=\"1\" class=\"dataframe\">\n",
       "  <thead>\n",
       "    <tr style=\"text-align: right;\">\n",
       "      <th></th>\n",
       "      <th>Pred_class</th>\n",
       "      <th>probabilidade</th>\n",
       "      <th>status</th>\n",
       "      <th>True_class</th>\n",
       "      <th>Acertou</th>\n",
       "    </tr>\n",
       "  </thead>\n",
       "  <tbody>\n",
       "    <tr>\n",
       "      <th>0</th>\n",
       "      <td>2</td>\n",
       "      <td>0.079892</td>\n",
       "      <td>approved</td>\n",
       "      <td>0.0</td>\n",
       "      <td>0</td>\n",
       "    </tr>\n",
       "    <tr>\n",
       "      <th>1</th>\n",
       "      <td>2</td>\n",
       "      <td>0.379377</td>\n",
       "      <td>approved</td>\n",
       "      <td>74.0</td>\n",
       "      <td>0</td>\n",
       "    </tr>\n",
       "    <tr>\n",
       "      <th>2</th>\n",
       "      <td>2</td>\n",
       "      <td>0.379377</td>\n",
       "      <td>approved</td>\n",
       "      <td>74.0</td>\n",
       "      <td>0</td>\n",
       "    </tr>\n",
       "    <tr>\n",
       "      <th>3</th>\n",
       "      <td>2</td>\n",
       "      <td>0.420930</td>\n",
       "      <td>approved</td>\n",
       "      <td>74.0</td>\n",
       "      <td>0</td>\n",
       "    </tr>\n",
       "    <tr>\n",
       "      <th>4</th>\n",
       "      <td>2</td>\n",
       "      <td>0.607437</td>\n",
       "      <td>approved</td>\n",
       "      <td>2.0</td>\n",
       "      <td>1</td>\n",
       "    </tr>\n",
       "    <tr>\n",
       "      <th>5</th>\n",
       "      <td>2</td>\n",
       "      <td>0.690894</td>\n",
       "      <td>approved</td>\n",
       "      <td>2.0</td>\n",
       "      <td>1</td>\n",
       "    </tr>\n",
       "    <tr>\n",
       "      <th>6</th>\n",
       "      <td>2</td>\n",
       "      <td>0.759493</td>\n",
       "      <td>approved</td>\n",
       "      <td>2.0</td>\n",
       "      <td>1</td>\n",
       "    </tr>\n",
       "    <tr>\n",
       "      <th>7</th>\n",
       "      <td>2</td>\n",
       "      <td>0.834910</td>\n",
       "      <td>approved</td>\n",
       "      <td>2.0</td>\n",
       "      <td>1</td>\n",
       "    </tr>\n",
       "    <tr>\n",
       "      <th>8</th>\n",
       "      <td>2</td>\n",
       "      <td>0.861396</td>\n",
       "      <td>approved</td>\n",
       "      <td>2.0</td>\n",
       "      <td>1</td>\n",
       "    </tr>\n",
       "    <tr>\n",
       "      <th>9</th>\n",
       "      <td>2</td>\n",
       "      <td>1.000000</td>\n",
       "      <td>approved</td>\n",
       "      <td>2.0</td>\n",
       "      <td>1</td>\n",
       "    </tr>\n",
       "  </tbody>\n",
       "</table>\n",
       "</div>"
      ],
      "text/plain": [
       "   Pred_class  probabilidade    status  True_class  Acertou\n",
       "0           2       0.079892  approved         0.0        0\n",
       "1           2       0.379377  approved        74.0        0\n",
       "2           2       0.379377  approved        74.0        0\n",
       "3           2       0.420930  approved        74.0        0\n",
       "4           2       0.607437  approved         2.0        1\n",
       "5           2       0.690894  approved         2.0        1\n",
       "6           2       0.759493  approved         2.0        1\n",
       "7           2       0.834910  approved         2.0        1\n",
       "8           2       0.861396  approved         2.0        1\n",
       "9           2       1.000000  approved         2.0        1"
      ]
     },
     "execution_count": 24,
     "metadata": {},
     "output_type": "execute_result"
    }
   ],
   "source": [
    "dados_analise_ml_semnull_approved.head(10)"
   ]
  },
  {
   "cell_type": "code",
   "execution_count": 25,
   "metadata": {},
   "outputs": [
    {
     "data": {
      "image/png": "[encoded data removed]",
      "text/plain": [
       "<Figure size 1296x864 with 1 Axes>"
      ]
     },
     "metadata": {
      "needs_background": "light"
     },
     "output_type": "display_data"
    }
   ],
   "source": [
    "#analisando as classes que tiveram o maior número de acertos\n",
    "dados_analise_ml_semnull_approved_acertou = dados_analise_ml_semnull_approved[dados_analise_ml_semnull_approved['Acertou'] == 1]\n",
    "\n",
    "fig = plt.figure(figsize=(18, 12))\n",
    "plt.title('Análise das colunas que tiveram um maior acerto')\n",
    "sns.countplot(y=dados_analise_ml_semnull_approved_acertou['Pred_class'], orient='h')\n",
    "fig.savefig('images/analise_classes_maior_acerto.png')"
   ]
  },
  {
   "cell_type": "code",
   "execution_count": 54,
   "metadata": {},
   "outputs": [
    {
     "data": {
      "text/plain": [
       "<AxesSubplot:title={'center':'Análise boxplot Pred_class (Approved)'}, xlabel='Pred_class'>"
      ]
     },
     "execution_count": 54,
     "metadata": {},
     "output_type": "execute_result"
    },
    {
     "data": {
      "image/png": "[encoded data removed]",
      "text/plain": [
       "<Figure size 432x288 with 1 Axes>"
      ]
     },
     "metadata": {
      "needs_background": "light"
     },
     "output_type": "display_data"
    }
   ],
   "source": [
    "#analisando o boxplot da coluna, verificando se existe outlier\n",
    "fig = plt.figure(figsize=(6, 4))\n",
    "plt.title('Análise boxplot Pred_class (Approved)')\n",
    "sns.boxplot(dados_analise_ml_semnull_approved['Pred_class'])\n",
    "#fig.savefig('images/analise_classes_maior_acerto.png')"
   ]
  },
  {
   "cell_type": "markdown",
   "metadata": {},
   "source": [
    "#### Análise da coluna Probabilidade"
   ]
  },
  {
   "cell_type": "code",
   "execution_count": 49,
   "metadata": {},
   "outputs": [
    {
     "data": {
      "image/png": "[encoded data removed]",
      "text/plain": [
       "<Figure size 432x288 with 1 Axes>"
      ]
     },
     "metadata": {
      "needs_background": "light"
     },
     "output_type": "display_data"
    }
   ],
   "source": [
    "#analisando a coluna probabilidade\n",
    "\n",
    "fig = plt.figure(figsize=(6, 4))\n",
    "plt.title('Análise da coluna de probabilidade (Approved)')\n",
    "sns.histplot(dados_analise_ml_semnull_approved['probabilidade'], kde=True)\n",
    "fig.savefig('images/histograma_probabilidade.png')"
   ]
  },
  {
   "cell_type": "code",
   "execution_count": 50,
   "metadata": {},
   "outputs": [
    {
     "data": {
      "image/png": "[encoded data removed]",
      "text/plain": [
       "<Figure size 432x288 with 1 Axes>"
      ]
     },
     "metadata": {
      "needs_background": "light"
     },
     "output_type": "display_data"
    }
   ],
   "source": [
    "#analisando a coluna probabilidade quando acerta a classe\n",
    "\n",
    "fig = plt.figure(figsize=(6, 4))\n",
    "plt.title('Análise da coluna de probabilidade quando acerta a classe')\n",
    "sns.histplot(dados_analise_ml_semnull_approved_acertou['probabilidade'], kde=True)\n",
    "fig.savefig('images/histograma_probabilidade_acertou.png')"
   ]
  },
  {
   "cell_type": "markdown",
   "metadata": {},
   "source": [
    "### 2- Calcule o desempenho do modelo de classificação utilizando pelo menos três métricas."
   ]
  },
  {
   "cell_type": "code",
   "execution_count": 26,
   "metadata": {},
   "outputs": [],
   "source": [
    "#Por se tratar de um problema de classificação, as métricas utilizadas são voltadas para\n",
    "#esse tipo de problema.\n",
    "#Um problema de classificação consiste em atribuir uma classe, dentre todas as possibilidades possíveis,\n",
    "#para uma determinada entrada."
   ]
  },
  {
   "cell_type": "markdown",
   "metadata": {},
   "source": [
    "#### Confusion Matrix"
   ]
  },
  {
   "cell_type": "code",
   "execution_count": 27,
   "metadata": {},
   "outputs": [
    {
     "data": {
      "text/plain": [
       "Text(195.0, 0.5, 'True_class')"
      ]
     },
     "execution_count": 27,
     "metadata": {},
     "output_type": "execute_result"
    },
    {
     "data": {
      "image/png": "[encoded data removed]",
      "text/plain": [
       "<Figure size 1728x1296 with 2 Axes>"
      ]
     },
     "metadata": {
      "needs_background": "light"
     },
     "output_type": "display_data"
    }
   ],
   "source": [
    "confusion_matrix = confusion_matrix(dados_analise_ml_semnull['True_class'],\n",
    "                                    dados_analise_ml_semnull['Pred_class'])\n",
    "\n",
    "fig = plt.figure(figsize=(24, 18))\n",
    "sns.heatmap(confusion_matrix, cmap='Blues')\n",
    "plt.xlabel('Pred_class')\n",
    "plt.ylabel('True_class')\n",
    "\n",
    "#a confusion matrix (matriz de confusão) é boa para podermos visualizar os falsos negativos e positivos\n",
    "#das classes.\n",
    "#as áreas mais escuras quer dizer que teve uma maior ocorrência. \n",
    "#podemos observar que existem algumas áreas escuras fora da diagonal principal da matriz\n",
    "#nosso modelo confunde bastante o 0 com o 28 e o 44 com o 0."
   ]
  },
  {
   "cell_type": "markdown",
   "metadata": {},
   "source": [
    "#### Accuracy Score"
   ]
  },
  {
   "cell_type": "code",
   "execution_count": 28,
   "metadata": {},
   "outputs": [
    {
     "data": {
      "text/plain": [
       "0.6983333333333334"
      ]
     },
     "execution_count": 28,
     "metadata": {},
     "output_type": "execute_result"
    }
   ],
   "source": [
    "score = accuracy_score(dados_analise_ml_semnull_approved['True_class'],\n",
    "                       dados_analise_ml_semnull_approved['Pred_class'])\n",
    "\n",
    "score"
   ]
  },
  {
   "cell_type": "markdown",
   "metadata": {},
   "source": [
    "#### F1 Score"
   ]
  },
  {
   "cell_type": "code",
   "execution_count": 29,
   "metadata": {},
   "outputs": [
    {
     "data": {
      "text/plain": [
       "0.6831017455927221"
      ]
     },
     "execution_count": 29,
     "metadata": {},
     "output_type": "execute_result"
    }
   ],
   "source": [
    "#calcula o score considerando os valores do 'recall score' e 'precision score'\n",
    "score = f1_score(dados_analise_ml_semnull_approved['True_class'],\n",
    "                 dados_analise_ml_semnull_approved['Pred_class'],\n",
    "                 average='weighted')\n",
    "\n",
    "score"
   ]
  },
  {
   "cell_type": "markdown",
   "metadata": {},
   "source": [
    "#### Recall Score"
   ]
  },
  {
   "cell_type": "code",
   "execution_count": 30,
   "metadata": {},
   "outputs": [
    {
     "data": {
      "text/plain": [
       "0.6983333333333334"
      ]
     },
     "execution_count": 30,
     "metadata": {},
     "output_type": "execute_result"
    }
   ],
   "source": [
    "#calcula o score considerando os falsos negativo e verdadeiro positivo\n",
    "score = recall_score(dados_analise_ml_semnull_approved['True_class'],\n",
    "                     dados_analise_ml_semnull_approved['Pred_class'],\n",
    "                     average='weighted')\n",
    "\n",
    "score"
   ]
  },
  {
   "cell_type": "markdown",
   "metadata": {},
   "source": [
    "#### Precision Score"
   ]
  },
  {
   "cell_type": "code",
   "execution_count": 31,
   "metadata": {},
   "outputs": [
    {
     "data": {
      "text/plain": [
       "0.6988175116236557"
      ]
     },
     "execution_count": 31,
     "metadata": {},
     "output_type": "execute_result"
    }
   ],
   "source": [
    "#calcula o score considerando os falsos positivos e verdadeiro positivo\n",
    "score = precision_score(dados_analise_ml_semnull_approved['True_class'],\n",
    "                        dados_analise_ml_semnull_approved['Pred_class'],\n",
    "                        average='weighted')\n",
    "\n",
    "score"
   ]
  },
  {
   "cell_type": "markdown",
   "metadata": {},
   "source": [
    "### 3- Crie um classificador que tenha como output se os dados com status igual a revision estão corretos ou não (Sugestão : Técnica de cross-validation K-fold)."
   ]
  },
  {
   "cell_type": "code",
   "execution_count": 32,
   "metadata": {},
   "outputs": [],
   "source": [
    "X_train = dados_analise_ml_semnull_approved['Pred_class']\n",
    "y_train = dados_analise_ml_semnull_approved['True_class']\n",
    "\n",
    "#pega somente as linhas onde o status é 'revision'\n",
    "dados_analise_ml_revision = dados_analise_ml_semnull[dados_analise_ml_semnull['status'] == 'revision'].copy()\n",
    "\n",
    "X_test = dados_analise_ml_revision['Pred_class']\n",
    "y_test = dados_analise_ml_revision['True_class']"
   ]
  },
  {
   "cell_type": "code",
   "execution_count": 33,
   "metadata": {},
   "outputs": [
    {
     "data": {
      "text/plain": [
       "array([  2.,  24.,  24.,  25.,  25.,  25.,   0.,  55.,  77.,  77.,   0.,\n",
       "       115.,  11.,  24.,  60.,   2.,   3.,   4.,  22.,  24.,  39.,  39.,\n",
       "         0.,  60.,  81.,  96., 112.,   2.,   3.,   3.,   4.,   4.,  12.,\n",
       "        17.,  24.,  74.,   0.,  55.,  60.,  60.,  77.,  85.,  96.])"
      ]
     },
     "execution_count": 33,
     "metadata": {},
     "output_type": "execute_result"
    }
   ],
   "source": [
    "from sklearn.ensemble import RandomForestClassifier\n",
    "\n",
    "#para que possamos treinar o nosso classificador, primeiro devemos converter nossos\n",
    "#valores para um array de numpy.\n",
    "#isso deverá ser feito para que os nossos valores tenham a dimensão correta.\n",
    "#deverá ser feito tanto para o X_train quanto o X_test\n",
    "X_train_array = np.array(X_train)\n",
    "X_train_array = X_train_array.reshape(-1, 1)\n",
    "\n",
    "X_test_array = np.array(X_test)\n",
    "X_test_array = X_test_array.reshape(-1, 1)\n",
    "\n",
    "random_forest = RandomForestClassifier(random_state=23)\n",
    "\n",
    "#treinando o modelo com os dados que possuem status 'approved'\n",
    "random_forest.fit(X_train_array, y_train)\n",
    "\n",
    "#testando o modelo com os dados que possuem status 'revision'\n",
    "pred = random_forest.predict(X_test_array)\n",
    "pred"
   ]
  },
  {
   "cell_type": "code",
   "execution_count": 34,
   "metadata": {},
   "outputs": [
    {
     "data": {
      "text/html": [
       "<div>\n",
       "<style scoped>\n",
       "    .dataframe tbody tr th:only-of-type {\n",
       "        vertical-align: middle;\n",
       "    }\n",
       "\n",
       "    .dataframe tbody tr th {\n",
       "        vertical-align: top;\n",
       "    }\n",
       "\n",
       "    .dataframe thead th {\n",
       "        text-align: right;\n",
       "    }\n",
       "</style>\n",
       "<table border=\"1\" class=\"dataframe\">\n",
       "  <thead>\n",
       "    <tr style=\"text-align: right;\">\n",
       "      <th></th>\n",
       "      <th>Classe_real</th>\n",
       "      <th>Classe_prevista</th>\n",
       "      <th>Acertou</th>\n",
       "    </tr>\n",
       "  </thead>\n",
       "  <tbody>\n",
       "    <tr>\n",
       "      <th>600</th>\n",
       "      <td>2.0</td>\n",
       "      <td>2.0</td>\n",
       "      <td>1</td>\n",
       "    </tr>\n",
       "    <tr>\n",
       "      <th>601</th>\n",
       "      <td>24.0</td>\n",
       "      <td>24.0</td>\n",
       "      <td>1</td>\n",
       "    </tr>\n",
       "    <tr>\n",
       "      <th>602</th>\n",
       "      <td>24.0</td>\n",
       "      <td>24.0</td>\n",
       "      <td>1</td>\n",
       "    </tr>\n",
       "    <tr>\n",
       "      <th>603</th>\n",
       "      <td>25.0</td>\n",
       "      <td>25.0</td>\n",
       "      <td>1</td>\n",
       "    </tr>\n",
       "    <tr>\n",
       "      <th>604</th>\n",
       "      <td>25.0</td>\n",
       "      <td>25.0</td>\n",
       "      <td>1</td>\n",
       "    </tr>\n",
       "    <tr>\n",
       "      <th>605</th>\n",
       "      <td>25.0</td>\n",
       "      <td>25.0</td>\n",
       "      <td>1</td>\n",
       "    </tr>\n",
       "    <tr>\n",
       "      <th>606</th>\n",
       "      <td>32.0</td>\n",
       "      <td>0.0</td>\n",
       "      <td>0</td>\n",
       "    </tr>\n",
       "    <tr>\n",
       "      <th>607</th>\n",
       "      <td>55.0</td>\n",
       "      <td>55.0</td>\n",
       "      <td>1</td>\n",
       "    </tr>\n",
       "    <tr>\n",
       "      <th>608</th>\n",
       "      <td>77.0</td>\n",
       "      <td>77.0</td>\n",
       "      <td>1</td>\n",
       "    </tr>\n",
       "    <tr>\n",
       "      <th>609</th>\n",
       "      <td>77.0</td>\n",
       "      <td>77.0</td>\n",
       "      <td>1</td>\n",
       "    </tr>\n",
       "    <tr>\n",
       "      <th>610</th>\n",
       "      <td>86.0</td>\n",
       "      <td>0.0</td>\n",
       "      <td>0</td>\n",
       "    </tr>\n",
       "    <tr>\n",
       "      <th>611</th>\n",
       "      <td>114.0</td>\n",
       "      <td>115.0</td>\n",
       "      <td>0</td>\n",
       "    </tr>\n",
       "    <tr>\n",
       "      <th>612</th>\n",
       "      <td>11.0</td>\n",
       "      <td>11.0</td>\n",
       "      <td>1</td>\n",
       "    </tr>\n",
       "    <tr>\n",
       "      <th>613</th>\n",
       "      <td>24.0</td>\n",
       "      <td>24.0</td>\n",
       "      <td>1</td>\n",
       "    </tr>\n",
       "    <tr>\n",
       "      <th>614</th>\n",
       "      <td>60.0</td>\n",
       "      <td>60.0</td>\n",
       "      <td>1</td>\n",
       "    </tr>\n",
       "    <tr>\n",
       "      <th>615</th>\n",
       "      <td>2.0</td>\n",
       "      <td>2.0</td>\n",
       "      <td>1</td>\n",
       "    </tr>\n",
       "    <tr>\n",
       "      <th>616</th>\n",
       "      <td>3.0</td>\n",
       "      <td>3.0</td>\n",
       "      <td>1</td>\n",
       "    </tr>\n",
       "    <tr>\n",
       "      <th>617</th>\n",
       "      <td>4.0</td>\n",
       "      <td>4.0</td>\n",
       "      <td>1</td>\n",
       "    </tr>\n",
       "    <tr>\n",
       "      <th>618</th>\n",
       "      <td>22.0</td>\n",
       "      <td>22.0</td>\n",
       "      <td>1</td>\n",
       "    </tr>\n",
       "    <tr>\n",
       "      <th>619</th>\n",
       "      <td>24.0</td>\n",
       "      <td>24.0</td>\n",
       "      <td>1</td>\n",
       "    </tr>\n",
       "    <tr>\n",
       "      <th>620</th>\n",
       "      <td>39.0</td>\n",
       "      <td>39.0</td>\n",
       "      <td>1</td>\n",
       "    </tr>\n",
       "    <tr>\n",
       "      <th>621</th>\n",
       "      <td>39.0</td>\n",
       "      <td>39.0</td>\n",
       "      <td>1</td>\n",
       "    </tr>\n",
       "    <tr>\n",
       "      <th>622</th>\n",
       "      <td>43.0</td>\n",
       "      <td>0.0</td>\n",
       "      <td>0</td>\n",
       "    </tr>\n",
       "    <tr>\n",
       "      <th>623</th>\n",
       "      <td>60.0</td>\n",
       "      <td>60.0</td>\n",
       "      <td>1</td>\n",
       "    </tr>\n",
       "    <tr>\n",
       "      <th>624</th>\n",
       "      <td>81.0</td>\n",
       "      <td>81.0</td>\n",
       "      <td>1</td>\n",
       "    </tr>\n",
       "    <tr>\n",
       "      <th>625</th>\n",
       "      <td>96.0</td>\n",
       "      <td>96.0</td>\n",
       "      <td>1</td>\n",
       "    </tr>\n",
       "    <tr>\n",
       "      <th>626</th>\n",
       "      <td>113.0</td>\n",
       "      <td>112.0</td>\n",
       "      <td>0</td>\n",
       "    </tr>\n",
       "    <tr>\n",
       "      <th>627</th>\n",
       "      <td>2.0</td>\n",
       "      <td>2.0</td>\n",
       "      <td>1</td>\n",
       "    </tr>\n",
       "    <tr>\n",
       "      <th>628</th>\n",
       "      <td>3.0</td>\n",
       "      <td>3.0</td>\n",
       "      <td>1</td>\n",
       "    </tr>\n",
       "    <tr>\n",
       "      <th>629</th>\n",
       "      <td>3.0</td>\n",
       "      <td>3.0</td>\n",
       "      <td>1</td>\n",
       "    </tr>\n",
       "    <tr>\n",
       "      <th>630</th>\n",
       "      <td>4.0</td>\n",
       "      <td>4.0</td>\n",
       "      <td>1</td>\n",
       "    </tr>\n",
       "    <tr>\n",
       "      <th>631</th>\n",
       "      <td>4.0</td>\n",
       "      <td>4.0</td>\n",
       "      <td>1</td>\n",
       "    </tr>\n",
       "    <tr>\n",
       "      <th>632</th>\n",
       "      <td>12.0</td>\n",
       "      <td>12.0</td>\n",
       "      <td>1</td>\n",
       "    </tr>\n",
       "    <tr>\n",
       "      <th>633</th>\n",
       "      <td>17.0</td>\n",
       "      <td>17.0</td>\n",
       "      <td>1</td>\n",
       "    </tr>\n",
       "    <tr>\n",
       "      <th>634</th>\n",
       "      <td>24.0</td>\n",
       "      <td>24.0</td>\n",
       "      <td>1</td>\n",
       "    </tr>\n",
       "    <tr>\n",
       "      <th>635</th>\n",
       "      <td>36.0</td>\n",
       "      <td>74.0</td>\n",
       "      <td>0</td>\n",
       "    </tr>\n",
       "    <tr>\n",
       "      <th>636</th>\n",
       "      <td>43.0</td>\n",
       "      <td>0.0</td>\n",
       "      <td>0</td>\n",
       "    </tr>\n",
       "    <tr>\n",
       "      <th>637</th>\n",
       "      <td>55.0</td>\n",
       "      <td>55.0</td>\n",
       "      <td>1</td>\n",
       "    </tr>\n",
       "    <tr>\n",
       "      <th>638</th>\n",
       "      <td>60.0</td>\n",
       "      <td>60.0</td>\n",
       "      <td>1</td>\n",
       "    </tr>\n",
       "    <tr>\n",
       "      <th>639</th>\n",
       "      <td>60.0</td>\n",
       "      <td>60.0</td>\n",
       "      <td>1</td>\n",
       "    </tr>\n",
       "    <tr>\n",
       "      <th>640</th>\n",
       "      <td>77.0</td>\n",
       "      <td>77.0</td>\n",
       "      <td>1</td>\n",
       "    </tr>\n",
       "    <tr>\n",
       "      <th>641</th>\n",
       "      <td>84.0</td>\n",
       "      <td>85.0</td>\n",
       "      <td>0</td>\n",
       "    </tr>\n",
       "    <tr>\n",
       "      <th>642</th>\n",
       "      <td>96.0</td>\n",
       "      <td>96.0</td>\n",
       "      <td>1</td>\n",
       "    </tr>\n",
       "  </tbody>\n",
       "</table>\n",
       "</div>"
      ],
      "text/plain": [
       "     Classe_real  Classe_prevista  Acertou\n",
       "600          2.0              2.0        1\n",
       "601         24.0             24.0        1\n",
       "602         24.0             24.0        1\n",
       "603         25.0             25.0        1\n",
       "604         25.0             25.0        1\n",
       "605         25.0             25.0        1\n",
       "606         32.0              0.0        0\n",
       "607         55.0             55.0        1\n",
       "608         77.0             77.0        1\n",
       "609         77.0             77.0        1\n",
       "610         86.0              0.0        0\n",
       "611        114.0            115.0        0\n",
       "612         11.0             11.0        1\n",
       "613         24.0             24.0        1\n",
       "614         60.0             60.0        1\n",
       "615          2.0              2.0        1\n",
       "616          3.0              3.0        1\n",
       "617          4.0              4.0        1\n",
       "618         22.0             22.0        1\n",
       "619         24.0             24.0        1\n",
       "620         39.0             39.0        1\n",
       "621         39.0             39.0        1\n",
       "622         43.0              0.0        0\n",
       "623         60.0             60.0        1\n",
       "624         81.0             81.0        1\n",
       "625         96.0             96.0        1\n",
       "626        113.0            112.0        0\n",
       "627          2.0              2.0        1\n",
       "628          3.0              3.0        1\n",
       "629          3.0              3.0        1\n",
       "630          4.0              4.0        1\n",
       "631          4.0              4.0        1\n",
       "632         12.0             12.0        1\n",
       "633         17.0             17.0        1\n",
       "634         24.0             24.0        1\n",
       "635         36.0             74.0        0\n",
       "636         43.0              0.0        0\n",
       "637         55.0             55.0        1\n",
       "638         60.0             60.0        1\n",
       "639         60.0             60.0        1\n",
       "640         77.0             77.0        1\n",
       "641         84.0             85.0        0\n",
       "642         96.0             96.0        1"
      ]
     },
     "execution_count": 34,
     "metadata": {},
     "output_type": "execute_result"
    }
   ],
   "source": [
    "#criando um novo dataframe para podermos visualizar melhor a classe prevista e a classe real\n",
    "dataframe_comparacao = pd.DataFrame({\n",
    "    'Classe_real': y_test,\n",
    "    'Classe_prevista': pred\n",
    "})\n",
    "\n",
    "#criando uma nova coluna no nosso dataframe para verificarmos se o algoritmo acertou a classe\n",
    "#se o classe real = prevista, colocamos o valor 1. Se não, o valor 0.\n",
    "dataframe_comparacao['Acertou'] = np.where(dataframe_comparacao['Classe_real'] == dataframe_comparacao['Classe_prevista'],\n",
    "                                          1, 0)\n",
    "\n",
    "dataframe_comparacao"
   ]
  },
  {
   "cell_type": "code",
   "execution_count": 35,
   "metadata": {},
   "outputs": [
    {
     "name": "stdout",
     "output_type": "stream",
     "text": [
      "Total de acertos: 35 de 43\n",
      "Porcentagem: 0.813953488372093\n"
     ]
    }
   ],
   "source": [
    "#podemos ver que o modelo acertou uma grande quantidade de dados que estavam com status 'revision'\n",
    "print(\"Total de acertos: \" + str(dataframe_comparacao['Acertou'].sum()) + \" de \" + str(dataframe_comparacao.shape[0]))\n",
    "print(\"Porcentagem: \" + str(dataframe_comparacao['Acertou'].sum()/dataframe_comparacao.shape[0]))\n",
    "\n",
    "#iremos obter um score de, aproximadamente, 0.814 no classificador criado\n",
    "#isso poderia ser melhorado usando outros algoritmos mais eficientes (por exemplo: XGBoost e LightGBM)\n",
    "#e também usando técnicas para melhorar os hiper parâmetros do modelo (GridSearch, RandomSearch ou Optuna)"
   ]
  },
  {
   "cell_type": "markdown",
   "metadata": {},
   "source": [
    "### 4- Compare três métricas de avaliação aplicadas ao modelo e descreva sobre a diferença."
   ]
  },
  {
   "cell_type": "markdown",
   "metadata": {},
   "source": [
    "#### Accuracy Score"
   ]
  },
  {
   "cell_type": "code",
   "execution_count": 36,
   "metadata": {},
   "outputs": [
    {
     "data": {
      "text/plain": [
       "0.813953488372093"
      ]
     },
     "execution_count": 36,
     "metadata": {},
     "output_type": "execute_result"
    }
   ],
   "source": [
    "#calcula o score utilizando verdadeiro positivo, verdadeiro negativo, falso positivo e falso negativo\n",
    "#fórmula= (vp + vn) / (vp + vn + fp + fn)\n",
    "#vp= verdadeiro positivo\n",
    "#vn= verdadeiro negativo\n",
    "#fp= falso positivo\n",
    "#fn= falso negativo\n",
    "\n",
    "score = accuracy_score(dataframe_comparacao['Classe_real'],\n",
    "                       dataframe_comparacao['Classe_prevista'])\n",
    "\n",
    "score"
   ]
  },
  {
   "cell_type": "markdown",
   "metadata": {},
   "source": [
    "#### Recall Score"
   ]
  },
  {
   "cell_type": "code",
   "execution_count": 37,
   "metadata": {},
   "outputs": [
    {
     "data": {
      "text/plain": [
       "0.813953488372093"
      ]
     },
     "execution_count": 37,
     "metadata": {},
     "output_type": "execute_result"
    }
   ],
   "source": [
    "#calcula o score utilizando verdadeiro positivo e falso negativo\n",
    "#fórmula= vp / (vp + fn)\n",
    "#vp= verdadeiro positivo\n",
    "#fn= falso negativo\n",
    "\n",
    "#estamos usando o 'weighted' para calcular o score de cada classe e aplicando um peso sobre ele\n",
    "#no nosso caso, como as classes não estão distribuídas de forma uniforme é necessário usar o peso\n",
    "#para que o score fique balanceado\n",
    "score = recall_score(dataframe_comparacao['Classe_real'],\n",
    "                     dataframe_comparacao['Classe_prevista'],\n",
    "                     average='weighted')\n",
    "\n",
    "score"
   ]
  },
  {
   "cell_type": "code",
   "execution_count": 38,
   "metadata": {},
   "outputs": [
    {
     "data": {
      "text/plain": [
       "0.5555555555555556"
      ]
     },
     "execution_count": 38,
     "metadata": {},
     "output_type": "execute_result"
    }
   ],
   "source": [
    "#utilizando o 'macro' só iremos calcular o score de classe e não aplicamos um peso sobre ela\n",
    "#podemos notar a diferença de um score para o outro\n",
    "score = recall_score(dataframe_comparacao['Classe_real'],\n",
    "                     dataframe_comparacao['Classe_prevista'],\n",
    "                     average='macro')\n",
    "\n",
    "score"
   ]
  },
  {
   "cell_type": "markdown",
   "metadata": {},
   "source": [
    "#### Precision Score"
   ]
  },
  {
   "cell_type": "code",
   "execution_count": 39,
   "metadata": {},
   "outputs": [
    {
     "data": {
      "text/plain": [
       "0.813953488372093"
      ]
     },
     "execution_count": 39,
     "metadata": {},
     "output_type": "execute_result"
    }
   ],
   "source": [
    "#calcula o score utilizando verdadeiro positivo e falso positivo\n",
    "#fórmula= vp / (vp + fp)\n",
    "#vp= verdadeiro positivo\n",
    "#fp= falso positivo\n",
    "\n",
    "#estamos usando o 'weighted' para calcular o score de cada classe e aplicando um peso sobre ele\n",
    "#no nosso caso, como as classes não estão distribuídas de forma uniforme é necessário usar o peso\n",
    "#para que o score fique balanceado\n",
    "score = precision_score(dataframe_comparacao['Classe_real'],\n",
    "                        dataframe_comparacao['Classe_prevista'],\n",
    "                        average='weighted')\n",
    "\n",
    "score"
   ]
  },
  {
   "cell_type": "code",
   "execution_count": 40,
   "metadata": {},
   "outputs": [
    {
     "data": {
      "text/plain": [
       "0.5555555555555556"
      ]
     },
     "execution_count": 40,
     "metadata": {},
     "output_type": "execute_result"
    }
   ],
   "source": [
    "#utilizando o 'macro' só iremos calcular o score de classe e não aplicamos um peso sobre ela\n",
    "#podemos notar a diferença de um score para o outro\n",
    "score = precision_score(dataframe_comparacao['Classe_real'],\n",
    "                     dataframe_comparacao['Classe_prevista'],\n",
    "                     average='macro')\n",
    "\n",
    "score"
   ]
  },
  {
   "cell_type": "markdown",
   "metadata": {},
   "source": [
    "### 5- Crie um classificador, a partir da segunda aba - NLP do arquivo de dados, quepermita identificar qual trecho de música corresponde às respectivas artistas listadas (Sugestão: Naive Bayes Classifier)."
   ]
  },
  {
   "cell_type": "code",
   "execution_count": 41,
   "metadata": {},
   "outputs": [
    {
     "data": {
      "text/plain": [
       "(518, 2)"
      ]
     },
     "execution_count": 41,
     "metadata": {},
     "output_type": "execute_result"
    }
   ],
   "source": [
    "#temos 518 dados e duas colunas\n",
    "#colunas: letra e artista\n",
    "#letra: trecho da música\n",
    "#artista: cantora referente ao trecho da música (letra)\n",
    "dados_nlp.shape"
   ]
  },
  {
   "cell_type": "code",
   "execution_count": 42,
   "metadata": {},
   "outputs": [
    {
     "data": {
      "text/html": [
       "<div>\n",
       "<style scoped>\n",
       "    .dataframe tbody tr th:only-of-type {\n",
       "        vertical-align: middle;\n",
       "    }\n",
       "\n",
       "    .dataframe tbody tr th {\n",
       "        vertical-align: top;\n",
       "    }\n",
       "\n",
       "    .dataframe thead th {\n",
       "        text-align: right;\n",
       "    }\n",
       "</style>\n",
       "<table border=\"1\" class=\"dataframe\">\n",
       "  <thead>\n",
       "    <tr style=\"text-align: right;\">\n",
       "      <th></th>\n",
       "      <th>letra</th>\n",
       "      <th>artista</th>\n",
       "    </tr>\n",
       "  </thead>\n",
       "  <tbody>\n",
       "    <tr>\n",
       "      <th>count</th>\n",
       "      <td>518</td>\n",
       "      <td>518</td>\n",
       "    </tr>\n",
       "    <tr>\n",
       "      <th>unique</th>\n",
       "      <td>517</td>\n",
       "      <td>2</td>\n",
       "    </tr>\n",
       "    <tr>\n",
       "      <th>top</th>\n",
       "      <td>All along it was a fever A cold sweat hot-head...</td>\n",
       "      <td>Beyoncé</td>\n",
       "    </tr>\n",
       "    <tr>\n",
       "      <th>freq</th>\n",
       "      <td>2</td>\n",
       "      <td>274</td>\n",
       "    </tr>\n",
       "  </tbody>\n",
       "</table>\n",
       "</div>"
      ],
      "text/plain": [
       "                                                    letra  artista\n",
       "count                                                 518      518\n",
       "unique                                                517        2\n",
       "top     All along it was a fever A cold sweat hot-head...  Beyoncé\n",
       "freq                                                    2      274"
      ]
     },
     "execution_count": 42,
     "metadata": {},
     "output_type": "execute_result"
    }
   ],
   "source": [
    "#verificando se existe linhas com nulo\n",
    "dados_nlp.describe()"
   ]
  },
  {
   "cell_type": "code",
   "execution_count": 43,
   "metadata": {},
   "outputs": [
    {
     "data": {
      "text/plain": [
       "<AxesSubplot:title={'center':'Análise dos Artistas'}, xlabel='artista', ylabel='count'>"
      ]
     },
     "execution_count": 43,
     "metadata": {},
     "output_type": "execute_result"
    },
    {
     "data": {
      "image/png": "[encoded data removed]",
      "text/plain": [
       "<Figure size 504x288 with 1 Axes>"
      ]
     },
     "metadata": {
      "needs_background": "light"
     },
     "output_type": "display_data"
    }
   ],
   "source": [
    "fig = plt.figure(figsize=(7, 4))\n",
    "plt.title('Análise dos Artistas')\n",
    "sns.countplot(dados_nlp['artista'])\n",
    "\n",
    "#Temos dois artistas: Beyoncé e Rihanna\n",
    "#Beyoncé aparece 274 vezes, aproximadamente 53% \n",
    "#Rihanna aparece 244 vezes, aproximadamente 47%"
   ]
  },
  {
   "cell_type": "markdown",
   "metadata": {},
   "source": [
    "#### Criação do classificador"
   ]
  },
  {
   "cell_type": "code",
   "execution_count": 44,
   "metadata": {},
   "outputs": [
    {
     "data": {
      "text/plain": [
       "0.75"
      ]
     },
     "execution_count": 44,
     "metadata": {},
     "output_type": "execute_result"
    }
   ],
   "source": [
    "#separando os dados em X(features) e y(target)\n",
    "\n",
    "X = dados_nlp['letra']\n",
    "y = dados_nlp['artista']\n",
    "\n",
    "#separando os dados para treinamento do classificador e para testá-lo\n",
    "X_train, X_test, y_train, y_test = train_test_split(X, y, test_size=0.1, random_state=23)\n",
    "\n",
    "#para a extração de features será utilizado o método bags of words\n",
    "#o que esse método faz é associar um número inteiro para cada palavra\n",
    "#e depois armazenará a quantidade de vezes que essa palavra apareceu.\n",
    "#a função CountVectorizer já realiza todo esse processo de pré processamento e \n",
    "#tokenização (associar ao número inteiro) das palavras.\n",
    "cv = CountVectorizer(stop_words='english')\n",
    "\n",
    "X_train_tratado = cv.fit_transform(X_train)\n",
    "X_test_tratado = cv.transform(X_test)\n",
    "\n",
    "naive_bayes = MultinomialNB()\n",
    "\n",
    "#treinando o classificador\n",
    "naive_bayes.fit(X_train_tratado, y_train)\n",
    "\n",
    "#testando o classificador com os dados de teste\n",
    "pred = naive_bayes.predict(X_test_tratado)\n",
    "np.mean(pred == y_test)\n",
    "\n",
    "#iremos obter um score de 0.75 no classificador criado\n",
    "#isso poderia ser melhorado usando outros algoritmos mais eficientes (por exemplo o SVM), já que o Naive Bayes é mais básico\n",
    "#e também usando técnicas para melhorar os hiper parâmetros do modelo (GridSearch, RandomSearch ou Optuna)"
   ]
  }
 ],
 "metadata": {
  "kernelspec": {
   "display_name": "Python 3",
   "language": "python",
   "name": "python3"
  },
  "language_info": {
   "codemirror_mode": {
    "name": "ipython",
    "version": 3
   },
   "file_extension": ".py",
   "mimetype": "text/x-python",
   "name": "python",
   "nbconvert_exporter": "python",
   "pygments_lexer": "ipython3",
   "version": "3.8.5"
  }
 },
 "nbformat": 4,
 "nbformat_minor": 4
}
